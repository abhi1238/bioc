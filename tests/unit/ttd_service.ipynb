{
 "cells": [
  {
   "cell_type": "code",
   "execution_count": 1,
   "id": "c6e32bb4",
   "metadata": {},
   "outputs": [],
   "source": [
    "import requests\n",
    "import pandas as pd"
   ]
  },
  {
   "cell_type": "code",
   "execution_count": 2,
   "id": "b64ce12a",
   "metadata": {},
   "outputs": [],
   "source": [
    "BASE = \"http://localhost:8012\""
   ]
  },
  {
   "cell_type": "markdown",
   "id": "eef787c6",
   "metadata": {},
   "source": [
    "##### 1. List all tables"
   ]
  },
  {
   "cell_type": "code",
   "execution_count": 3,
   "id": "709a28d0",
   "metadata": {},
   "outputs": [
    {
     "name": "stdout",
     "output_type": "stream",
     "text": [
      "Available tables: ['target_master_table_ttd', 'drug_master_table_ttd', 'drug_disease_association_ttd', 'target_disease_association_ttd', 'drug_target_association_ttd', 'biomarker_disease_association_ttd', 'target_pathway_association_ttd', 'disease_master_table_ttd']\n"
     ]
    }
   ],
   "source": [
    "resp = requests.get(f\"{BASE}/tables\")\n",
    "tables = resp.json()\n",
    "print(\"Available tables:\", tables)"
   ]
  },
  {
   "cell_type": "markdown",
   "id": "b108f2f6",
   "metadata": {},
   "source": [
    "##### 2. Get one table, e.g. drug_master_table_ttd"
   ]
  },
  {
   "cell_type": "code",
   "execution_count": 4,
   "id": "2c5ba3f2",
   "metadata": {},
   "outputs": [
    {
     "data": {
      "text/html": [
       "<div>\n",
       "<style scoped>\n",
       "    .dataframe tbody tr th:only-of-type {\n",
       "        vertical-align: middle;\n",
       "    }\n",
       "\n",
       "    .dataframe tbody tr th {\n",
       "        vertical-align: top;\n",
       "    }\n",
       "\n",
       "    .dataframe thead th {\n",
       "        text-align: right;\n",
       "    }\n",
       "</style>\n",
       "<table border=\"1\" class=\"dataframe\">\n",
       "  <thead>\n",
       "    <tr style=\"text-align: right;\">\n",
       "      <th></th>\n",
       "      <th>drug_id</th>\n",
       "      <th>drug_smiles</th>\n",
       "      <th>drug_composition_class</th>\n",
       "      <th>drug_components</th>\n",
       "      <th>drug_inchi_key</th>\n",
       "      <th>drug_type</th>\n",
       "      <th>drug_therapeutic_class</th>\n",
       "      <th>drug_name</th>\n",
       "    </tr>\n",
       "  </thead>\n",
       "  <tbody>\n",
       "    <tr>\n",
       "      <th>0</th>\n",
       "      <td>D02RAN</td>\n",
       "      <td>C1=C(NC=N1)CCSC(=N)N</td>\n",
       "      <td>nan</td>\n",
       "      <td>nan</td>\n",
       "      <td>PEHSVUKQDJULKE-UHFFFAOYSA-N</td>\n",
       "      <td>Small molecular drug</td>\n",
       "      <td>nan</td>\n",
       "      <td>Imetit</td>\n",
       "    </tr>\n",
       "    <tr>\n",
       "      <th>1</th>\n",
       "      <td>DH6G1L</td>\n",
       "      <td>nan</td>\n",
       "      <td>nan</td>\n",
       "      <td>Aphios</td>\n",
       "      <td>nan</td>\n",
       "      <td>nan</td>\n",
       "      <td>nan</td>\n",
       "      <td>APH-1105</td>\n",
       "    </tr>\n",
       "    <tr>\n",
       "      <th>2</th>\n",
       "      <td>D03KYG</td>\n",
       "      <td>CCCC(C(=O)OCC)NC(C)C(=O)N1C2CCCCC2CC1C(=O)O</td>\n",
       "      <td>nan</td>\n",
       "      <td>nan</td>\n",
       "      <td>IPVQLZZIHOAWMC-QXKUPLGCSA-N</td>\n",
       "      <td>Small molecular drug</td>\n",
       "      <td>Antihypertensive Agents</td>\n",
       "      <td>Perindopril</td>\n",
       "    </tr>\n",
       "    <tr>\n",
       "      <th>3</th>\n",
       "      <td>D03ZIK</td>\n",
       "      <td>nan</td>\n",
       "      <td>nan</td>\n",
       "      <td>Madeira Therapeutics LLC</td>\n",
       "      <td>nan</td>\n",
       "      <td>nan</td>\n",
       "      <td>nan</td>\n",
       "      <td>MT-001</td>\n",
       "    </tr>\n",
       "    <tr>\n",
       "      <th>4</th>\n",
       "      <td>D0G7NW</td>\n",
       "      <td>CC(CN1C2=CC=CC=C2SC3=C1C=C(C=C3)C#N)CN(C)C</td>\n",
       "      <td>nan</td>\n",
       "      <td>nan</td>\n",
       "      <td>SLFGIOIONGJGRT-UHFFFAOYSA-N</td>\n",
       "      <td>Small molecular drug</td>\n",
       "      <td>nan</td>\n",
       "      <td>cyamemazine</td>\n",
       "    </tr>\n",
       "  </tbody>\n",
       "</table>\n",
       "</div>"
      ],
      "text/plain": [
       "  drug_id                                  drug_smiles drug_composition_class   \n",
       "0  D02RAN                         C1=C(NC=N1)CCSC(=N)N                    nan  \\\n",
       "1  DH6G1L                                          nan                    nan   \n",
       "2  D03KYG  CCCC(C(=O)OCC)NC(C)C(=O)N1C2CCCCC2CC1C(=O)O                    nan   \n",
       "3  D03ZIK                                          nan                    nan   \n",
       "4  D0G7NW   CC(CN1C2=CC=CC=C2SC3=C1C=C(C=C3)C#N)CN(C)C                    nan   \n",
       "\n",
       "            drug_components               drug_inchi_key   \n",
       "0                       nan  PEHSVUKQDJULKE-UHFFFAOYSA-N  \\\n",
       "1                    Aphios                          nan   \n",
       "2                       nan  IPVQLZZIHOAWMC-QXKUPLGCSA-N   \n",
       "3  Madeira Therapeutics LLC                          nan   \n",
       "4                       nan  SLFGIOIONGJGRT-UHFFFAOYSA-N   \n",
       "\n",
       "              drug_type   drug_therapeutic_class    drug_name  \n",
       "0  Small molecular drug                      nan       Imetit  \n",
       "1                   nan                      nan     APH-1105  \n",
       "2  Small molecular drug  Antihypertensive Agents  Perindopril  \n",
       "3                   nan                      nan       MT-001  \n",
       "4  Small molecular drug                      nan  cyamemazine  "
      ]
     },
     "execution_count": 4,
     "metadata": {},
     "output_type": "execute_result"
    }
   ],
   "source": [
    "\n",
    "table_name = \"drug_master_table_ttd\"\n",
    "resp2 = requests.get(f\"{BASE}/table/{table_name}\")\n",
    "data = resp2.json()    # this is list of dicts\n",
    "df = pd.DataFrame(data)\n",
    "df.head()\n"
   ]
  },
  {
   "cell_type": "markdown",
   "id": "fb7557ae",
   "metadata": {},
   "source": []
  }
 ],
 "metadata": {
  "kernelspec": {
   "display_name": "ttd3",
   "language": "python",
   "name": "python3"
  },
  "language_info": {
   "codemirror_mode": {
    "name": "ipython",
    "version": 3
   },
   "file_extension": ".py",
   "mimetype": "text/x-python",
   "name": "python",
   "nbconvert_exporter": "python",
   "pygments_lexer": "ipython3",
   "version": "3.10.16"
  }
 },
 "nbformat": 4,
 "nbformat_minor": 5
}
