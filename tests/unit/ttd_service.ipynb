{
 "cells": [
  {
   "cell_type": "code",
   "execution_count": 11,
   "id": "c6e32bb4",
   "metadata": {},
   "outputs": [],
   "source": [
    "import requests\n",
    "import pandas as pd"
   ]
  },
  {
   "cell_type": "code",
   "execution_count": 12,
   "id": "b64ce12a",
   "metadata": {},
   "outputs": [],
   "source": [
    "BASE = \"http://localhost:8012\""
   ]
  },
  {
   "cell_type": "markdown",
   "id": "eef787c6",
   "metadata": {},
   "source": [
    "##### 1. List all tables"
   ]
  },
  {
   "cell_type": "code",
   "execution_count": 13,
   "id": "709a28d0",
   "metadata": {},
   "outputs": [
    {
     "name": "stdout",
     "output_type": "stream",
     "text": [
      "Available tables: ['target_master_table_ttd', 'drug_master_table_ttd', 'drug_disease_association_ttd', 'target_disease_association_ttd', 'drug_target_association_ttd', 'biomarker_disease_association_ttd', 'target_pathway_association_ttd', 'disease_master_table_ttd']\n"
     ]
    }
   ],
   "source": [
    "resp = requests.get(f\"{BASE}/tables\")\n",
    "tables = resp.json()\n",
    "print(\"Available tables:\", tables)"
   ]
  },
  {
   "cell_type": "markdown",
   "id": "b108f2f6",
   "metadata": {},
   "source": [
    "##### 2. Get one table, e.g. drug_master_table_ttd"
   ]
  },
  {
   "cell_type": "code",
   "execution_count": 14,
   "id": "2c5ba3f2",
   "metadata": {},
   "outputs": [
    {
     "data": {
      "text/html": [
       "<div>\n",
       "<style scoped>\n",
       "    .dataframe tbody tr th:only-of-type {\n",
       "        vertical-align: middle;\n",
       "    }\n",
       "\n",
       "    .dataframe tbody tr th {\n",
       "        vertical-align: top;\n",
       "    }\n",
       "\n",
       "    .dataframe thead th {\n",
       "        text-align: right;\n",
       "    }\n",
       "</style>\n",
       "<table border=\"1\" class=\"dataframe\">\n",
       "  <thead>\n",
       "    <tr style=\"text-align: right;\">\n",
       "      <th></th>\n",
       "      <th>drug_id</th>\n",
       "      <th>drug_smiles</th>\n",
       "      <th>drug_composition_class</th>\n",
       "      <th>drug_components</th>\n",
       "      <th>drug_inchi_key</th>\n",
       "      <th>drug_type</th>\n",
       "      <th>drug_therapeutic_class</th>\n",
       "      <th>drug_name</th>\n",
       "    </tr>\n",
       "  </thead>\n",
       "  <tbody>\n",
       "    <tr>\n",
       "      <th>0</th>\n",
       "      <td>D0VM2L</td>\n",
       "      <td>C1=CN(C=N1)CC(O)(P(=O)(O)O)P(=O)(O)O</td>\n",
       "      <td>nan</td>\n",
       "      <td>Norvatis Phamaceuticals Corporation</td>\n",
       "      <td>XRASPMIURGNCCH-UHFFFAOYSA-N</td>\n",
       "      <td>Small molecular drug</td>\n",
       "      <td>Bone Density Conservation Agents</td>\n",
       "      <td>Zoledronate</td>\n",
       "    </tr>\n",
       "    <tr>\n",
       "      <th>1</th>\n",
       "      <td>D0H1LQ</td>\n",
       "      <td>CCN(CC)C(=O)CCC1(C2=C(C=CC(=C2)OC)C3=NC=CN31)C...</td>\n",
       "      <td>nan</td>\n",
       "      <td>MERCK SHARP &amp; DOHME CORP. MANLEY, Peter, J. NA...</td>\n",
       "      <td>YBMSTCJKQQMCAW-UHFFFAOYSA-N</td>\n",
       "      <td>Small molecular drug</td>\n",
       "      <td>nan</td>\n",
       "      <td>PMID27788040-Compound-6c</td>\n",
       "    </tr>\n",
       "    <tr>\n",
       "      <th>2</th>\n",
       "      <td>D0R2QG</td>\n",
       "      <td>nan</td>\n",
       "      <td>nan</td>\n",
       "      <td>Talima Therapeutics Inc</td>\n",
       "      <td>nan</td>\n",
       "      <td>nan</td>\n",
       "      <td>nan</td>\n",
       "      <td>nan</td>\n",
       "    </tr>\n",
       "    <tr>\n",
       "      <th>3</th>\n",
       "      <td>D0A4RP</td>\n",
       "      <td>CC1=C(C(=NO1)C)C2=C(C=C3C(=C2)C=C(C(=O)N3CC4=C...</td>\n",
       "      <td>Isoxazole-based bicyclic compounds</td>\n",
       "      <td>ORION CORPORATION</td>\n",
       "      <td>KORFDBDOHJBIRP-UHFFFAOYSA-N</td>\n",
       "      <td>Small molecular drug</td>\n",
       "      <td>nan</td>\n",
       "      <td>Isoxazole-based bicyclic compound 19</td>\n",
       "    </tr>\n",
       "    <tr>\n",
       "      <th>4</th>\n",
       "      <td>D08JKW</td>\n",
       "      <td>CC(C)(C)C1=CC=C(C=C1)OCC2CN(C(=O)O2)C3=CC=CC(=...</td>\n",
       "      <td>nan</td>\n",
       "      <td>nan</td>\n",
       "      <td>YFJUDGZIRPWFBS-IBGZPJMESA-N</td>\n",
       "      <td>Small molecular drug</td>\n",
       "      <td>nan</td>\n",
       "      <td>PMID20409708C34</td>\n",
       "    </tr>\n",
       "  </tbody>\n",
       "</table>\n",
       "</div>"
      ],
      "text/plain": [
       "  drug_id                                        drug_smiles   \n",
       "0  D0VM2L               C1=CN(C=N1)CC(O)(P(=O)(O)O)P(=O)(O)O  \\\n",
       "1  D0H1LQ  CCN(CC)C(=O)CCC1(C2=C(C=CC(=C2)OC)C3=NC=CN31)C...   \n",
       "2  D0R2QG                                                nan   \n",
       "3  D0A4RP  CC1=C(C(=NO1)C)C2=C(C=C3C(=C2)C=C(C(=O)N3CC4=C...   \n",
       "4  D08JKW  CC(C)(C)C1=CC=C(C=C1)OCC2CN(C(=O)O2)C3=CC=CC(=...   \n",
       "\n",
       "               drug_composition_class   \n",
       "0                                 nan  \\\n",
       "1                                 nan   \n",
       "2                                 nan   \n",
       "3  Isoxazole-based bicyclic compounds   \n",
       "4                                 nan   \n",
       "\n",
       "                                     drug_components   \n",
       "0                Norvatis Phamaceuticals Corporation  \\\n",
       "1  MERCK SHARP & DOHME CORP. MANLEY, Peter, J. NA...   \n",
       "2                            Talima Therapeutics Inc   \n",
       "3                                  ORION CORPORATION   \n",
       "4                                                nan   \n",
       "\n",
       "                drug_inchi_key             drug_type   \n",
       "0  XRASPMIURGNCCH-UHFFFAOYSA-N  Small molecular drug  \\\n",
       "1  YBMSTCJKQQMCAW-UHFFFAOYSA-N  Small molecular drug   \n",
       "2                          nan                   nan   \n",
       "3  KORFDBDOHJBIRP-UHFFFAOYSA-N  Small molecular drug   \n",
       "4  YFJUDGZIRPWFBS-IBGZPJMESA-N  Small molecular drug   \n",
       "\n",
       "             drug_therapeutic_class                             drug_name  \n",
       "0  Bone Density Conservation Agents                           Zoledronate  \n",
       "1                               nan              PMID27788040-Compound-6c  \n",
       "2                               nan                                   nan  \n",
       "3                               nan  Isoxazole-based bicyclic compound 19  \n",
       "4                               nan                       PMID20409708C34  "
      ]
     },
     "execution_count": 14,
     "metadata": {},
     "output_type": "execute_result"
    }
   ],
   "source": [
    "\n",
    "table_name = \"drug_master_table_ttd\"\n",
    "resp2 = requests.get(f\"{BASE}/table/{table_name}\")\n",
    "data = resp2.json()    # this is list of dicts\n",
    "df = pd.DataFrame(data)\n",
    "df.head()\n"
   ]
  },
  {
   "cell_type": "markdown",
   "id": "fb7557ae",
   "metadata": {},
   "source": []
  }
 ],
 "metadata": {
  "kernelspec": {
   "display_name": "ttd3",
   "language": "python",
   "name": "python3"
  },
  "language_info": {
   "codemirror_mode": {
    "name": "ipython",
    "version": 3
   },
   "file_extension": ".py",
   "mimetype": "text/x-python",
   "name": "python",
   "nbconvert_exporter": "python",
   "pygments_lexer": "ipython3",
   "version": "3.10.16"
  }
 },
 "nbformat": 4,
 "nbformat_minor": 5
}
