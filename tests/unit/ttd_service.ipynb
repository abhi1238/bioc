{
 "cells": [
  {
   "cell_type": "code",
   "execution_count": 1,
   "id": "c6e32bb4",
   "metadata": {},
   "outputs": [],
   "source": [
    "import requests\n",
    "import pandas as pd"
   ]
  },
  {
   "cell_type": "code",
   "execution_count": 2,
   "id": "b64ce12a",
   "metadata": {},
   "outputs": [],
   "source": [
    "BASE = \"http://localhost:8012\""
   ]
  },
  {
   "cell_type": "markdown",
   "id": "eef787c6",
   "metadata": {},
   "source": [
    "##### 1. List all tables"
   ]
  },
  {
   "cell_type": "code",
   "execution_count": null,
   "id": "709a28d0",
   "metadata": {},
   "outputs": [
    {
     "name": "stdout",
     "output_type": "stream",
     "text": [
      "Available tables: ['target_master_table_ttd', 'drug_master_table_ttd', 'drug_disease_association_ttd', 'target_disease_association_ttd', 'drug_target_association_ttd', 'biomarker_disease_association_ttd', 'target_pathway_association_ttd', 'disease_master_table_ttd']\n"
     ]
    }
   ],
   "source": [
    "resp = requests.get(f\"{BASE}/tables\")\n",
    "tables = resp.json()\n",
    "print(\"Available tables:\", tables)"
   ]
  },
  {
   "cell_type": "markdown",
   "id": "b108f2f6",
   "metadata": {},
   "source": [
    "##### 2. Get one table, e.g. drug_master_table_ttd"
   ]
  },
  {
   "cell_type": "code",
   "execution_count": null,
   "id": "2c5ba3f2",
   "metadata": {},
   "outputs": [
    {
     "data": {
      "text/html": [
       "<div>\n",
       "<style scoped>\n",
       "    .dataframe tbody tr th:only-of-type {\n",
       "        vertical-align: middle;\n",
       "    }\n",
       "\n",
       "    .dataframe tbody tr th {\n",
       "        vertical-align: top;\n",
       "    }\n",
       "\n",
       "    .dataframe thead th {\n",
       "        text-align: right;\n",
       "    }\n",
       "</style>\n",
       "<table border=\"1\" class=\"dataframe\">\n",
       "  <thead>\n",
       "    <tr style=\"text-align: right;\">\n",
       "      <th></th>\n",
       "      <th>drug_id</th>\n",
       "      <th>drug_smiles</th>\n",
       "      <th>drug_composition_class</th>\n",
       "      <th>drug_components</th>\n",
       "      <th>drug_inchi_key</th>\n",
       "      <th>drug_type</th>\n",
       "      <th>drug_therapeutic_class</th>\n",
       "      <th>drug_name</th>\n",
       "    </tr>\n",
       "  </thead>\n",
       "  <tbody>\n",
       "    <tr>\n",
       "      <th>0</th>\n",
       "      <td>D06RRD</td>\n",
       "      <td>CC(C)(C(=O)O)OC1=CC=C(C=C1)Cl</td>\n",
       "      <td>nan</td>\n",
       "      <td>nan</td>\n",
       "      <td>TXCGAZHTZHNUAI-UHFFFAOYSA-N</td>\n",
       "      <td>Small molecular drug</td>\n",
       "      <td>nan</td>\n",
       "      <td>Fibrates</td>\n",
       "    </tr>\n",
       "    <tr>\n",
       "      <th>1</th>\n",
       "      <td>D0L5DN</td>\n",
       "      <td>C1CCC23CCN(C(C2C1)CC4=C3C=C(C=C4)N)CC5CC5</td>\n",
       "      <td>nan</td>\n",
       "      <td>nan</td>\n",
       "      <td>JUWFFFGTHLQORF-DFQSSKMNSA-N</td>\n",
       "      <td>Small molecular drug</td>\n",
       "      <td>nan</td>\n",
       "      <td>MCL-149</td>\n",
       "    </tr>\n",
       "    <tr>\n",
       "      <th>2</th>\n",
       "      <td>D92OCI</td>\n",
       "      <td>nan</td>\n",
       "      <td>nan</td>\n",
       "      <td>Coherus Biosciences</td>\n",
       "      <td>nan</td>\n",
       "      <td>Monoclonal antibody</td>\n",
       "      <td>nan</td>\n",
       "      <td>Toripalimab</td>\n",
       "    </tr>\n",
       "    <tr>\n",
       "      <th>3</th>\n",
       "      <td>D08BQJ</td>\n",
       "      <td>nan</td>\n",
       "      <td>nan</td>\n",
       "      <td>Northwest Biotherapeutics</td>\n",
       "      <td>nan</td>\n",
       "      <td>nan</td>\n",
       "      <td>nan</td>\n",
       "      <td>nan</td>\n",
       "    </tr>\n",
       "    <tr>\n",
       "      <th>4</th>\n",
       "      <td>D08BMM</td>\n",
       "      <td>C1=C(NC(=C1Br)Br)C(=O)NCC=CC2=CN=C(N2)N</td>\n",
       "      <td>nan</td>\n",
       "      <td>nan</td>\n",
       "      <td>QKJAXHBFQSBDAR-OWOJBTEDSA-N</td>\n",
       "      <td>Small molecular drug</td>\n",
       "      <td>nan</td>\n",
       "      <td>OROIDIN</td>\n",
       "    </tr>\n",
       "  </tbody>\n",
       "</table>\n",
       "</div>"
      ],
      "text/plain": [
       "  drug_id                                drug_smiles drug_composition_class   \n",
       "0  D06RRD              CC(C)(C(=O)O)OC1=CC=C(C=C1)Cl                    nan  \\\n",
       "1  D0L5DN  C1CCC23CCN(C(C2C1)CC4=C3C=C(C=C4)N)CC5CC5                    nan   \n",
       "2  D92OCI                                        nan                    nan   \n",
       "3  D08BQJ                                        nan                    nan   \n",
       "4  D08BMM    C1=C(NC(=C1Br)Br)C(=O)NCC=CC2=CN=C(N2)N                    nan   \n",
       "\n",
       "             drug_components               drug_inchi_key   \n",
       "0                        nan  TXCGAZHTZHNUAI-UHFFFAOYSA-N  \\\n",
       "1                        nan  JUWFFFGTHLQORF-DFQSSKMNSA-N   \n",
       "2        Coherus Biosciences                          nan   \n",
       "3  Northwest Biotherapeutics                          nan   \n",
       "4                        nan  QKJAXHBFQSBDAR-OWOJBTEDSA-N   \n",
       "\n",
       "              drug_type drug_therapeutic_class    drug_name  \n",
       "0  Small molecular drug                    nan     Fibrates  \n",
       "1  Small molecular drug                    nan      MCL-149  \n",
       "2   Monoclonal antibody                    nan  Toripalimab  \n",
       "3                   nan                    nan          nan  \n",
       "4  Small molecular drug                    nan      OROIDIN  "
      ]
     },
     "execution_count": 5,
     "metadata": {},
     "output_type": "execute_result"
    }
   ],
   "source": [
    "\n",
    "table_name = \"drug_master_table_ttd\"\n",
    "resp2 = requests.get(f\"{BASE}/table/{table_name}\")\n",
    "data = resp2.json()    # this is list of dicts\n",
    "df = pd.DataFrame(data)\n",
    "df.head()\n"
   ]
  }
 ],
 "metadata": {
  "kernelspec": {
   "display_name": "ttd3",
   "language": "python",
   "name": "python3"
  },
  "language_info": {
   "codemirror_mode": {
    "name": "ipython",
    "version": 3
   },
   "file_extension": ".py",
   "mimetype": "text/x-python",
   "name": "python",
   "nbconvert_exporter": "python",
   "pygments_lexer": "ipython3",
   "version": "3.10.16"
  }
 },
 "nbformat": 4,
 "nbformat_minor": 5
}
