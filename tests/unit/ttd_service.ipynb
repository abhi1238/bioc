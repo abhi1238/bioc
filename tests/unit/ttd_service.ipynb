{
 "cells": [
  {
   "cell_type": "code",
   "execution_count": null,
   "id": "c6e32bb4",
   "metadata": {},
   "outputs": [],
   "source": [
    "import requests\n",
    "import pandas as pd"
   ]
  },
  {
   "cell_type": "code",
   "execution_count": null,
   "id": "b64ce12a",
   "metadata": {},
   "outputs": [],
   "source": [
    "BASE = \"http://localhost:8012\""
   ]
  },
  {
   "cell_type": "markdown",
   "id": "eef787c6",
   "metadata": {},
   "source": [
    "##### 1. List all tables"
   ]
  },
  {
   "cell_type": "code",
   "execution_count": null,
   "id": "709a28d0",
   "metadata": {},
   "outputs": [],
   "source": [
    "resp = requests.get(f\"{BASE}/tables\")\n",
    "tables = resp.json()\n",
    "print(\"Available tables:\", tables)"
   ]
  },
  {
   "cell_type": "markdown",
   "id": "b108f2f6",
   "metadata": {},
   "source": [
    "##### 2. Get one table, e.g. drug_master_table_ttd"
   ]
  },
  {
   "cell_type": "code",
   "execution_count": null,
   "id": "2c5ba3f2",
   "metadata": {},
   "outputs": [],
   "source": [
    "\n",
    "table_name = \"drug_master_table_ttd\"\n",
    "resp2 = requests.get(f\"{BASE}/table/{table_name}\")\n",
    "data = resp2.json()    # this is list of dicts\n",
    "df = pd.DataFrame(data)\n",
    "df.head()\n"
   ]
  },
  {
   "cell_type": "markdown",
   "id": "fb7557ae",
   "metadata": {},
   "source": []
  }
 ],
 "metadata": {
  "kernelspec": {
   "display_name": "ttd3",
   "language": "python",
   "name": "python3"
  },
  "language_info": {
   "codemirror_mode": {
    "name": "ipython",
    "version": 3
   },
   "file_extension": ".py",
   "mimetype": "text/x-python",
   "name": "python",
   "nbconvert_exporter": "python",
   "pygments_lexer": "ipython3",
   "version": "3.10.16"
  }
 },
 "nbformat": 4,
 "nbformat_minor": 5
}
