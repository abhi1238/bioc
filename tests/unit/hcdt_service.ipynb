{
 "cells": [
  {
   "cell_type": "code",
   "execution_count": 1,
   "id": "f50e8db2",
   "metadata": {},
   "outputs": [],
   "source": [
    "import requests\n",
    "import pandas as pd"
   ]
  },
  {
   "cell_type": "code",
   "execution_count": 2,
   "id": "5ffe7432",
   "metadata": {},
   "outputs": [],
   "source": [
    "BASE = \"http://localhost:8014\""
   ]
  },
  {
   "cell_type": "markdown",
   "id": "822e99fc",
   "metadata": {},
   "source": [
    "##### 1. List all tables"
   ]
  },
  {
   "cell_type": "code",
   "execution_count": 3,
   "id": "5d995e90",
   "metadata": {},
   "outputs": [
    {
     "name": "stdout",
     "output_type": "stream",
     "text": [
      "Available tables: ['drug_master_table_hcdt', 'drug_gene_association_hcdt', 'drug_disease_association_hcdt', 'drug_pathway_association_hcdt', 'pathway_gene_association_hcdt', 'disease_master_table_hcdt', 'gene_master_table_hcdt', 'pathway_master_table_hcdt']\n"
     ]
    }
   ],
   "source": [
    "resp = requests.get(f\"{BASE}/tables\")\n",
    "tables = resp.json()\n",
    "print(\"Available tables:\", tables)"
   ]
  },
  {
   "cell_type": "markdown",
   "id": "8134b523",
   "metadata": {},
   "source": [
    "##### 2. Get one table, e.g. drug_master_table_hcdt"
   ]
  },
  {
   "cell_type": "code",
   "execution_count": 4,
   "id": "17de3a31",
   "metadata": {},
   "outputs": [
    {
     "data": {
      "text/html": [
       "<div>\n",
       "<style scoped>\n",
       "    .dataframe tbody tr th:only-of-type {\n",
       "        vertical-align: middle;\n",
       "    }\n",
       "\n",
       "    .dataframe tbody tr th {\n",
       "        vertical-align: top;\n",
       "    }\n",
       "\n",
       "    .dataframe thead th {\n",
       "        text-align: right;\n",
       "    }\n",
       "</style>\n",
       "<table border=\"1\" class=\"dataframe\">\n",
       "  <thead>\n",
       "    <tr style=\"text-align: right;\">\n",
       "      <th></th>\n",
       "      <th>pubchem_cid</th>\n",
       "      <th>drug_name</th>\n",
       "      <th>compound_synonym</th>\n",
       "      <th>molecular_weight</th>\n",
       "      <th>molecular_formula</th>\n",
       "      <th>inchi</th>\n",
       "      <th>iso_smiles</th>\n",
       "      <th>canonical_smiles</th>\n",
       "      <th>inchi_key</th>\n",
       "      <th>iupac_name</th>\n",
       "    </tr>\n",
       "  </thead>\n",
       "  <tbody>\n",
       "    <tr>\n",
       "      <th>0</th>\n",
       "      <td>70691115</td>\n",
       "      <td>2-[3,5-Dibromo-4-[[4-(2,4-dichlorophenoxy)phen...</td>\n",
       "      <td>CHEMBL2087291|BDBM50421202</td>\n",
       "      <td>686.20</td>\n",
       "      <td>C28H19Br2Cl2F2NO3</td>\n",
       "      <td>InChI=1S/C28H19Br2Cl2F2NO3/c29-23-9-17(11-27(3...</td>\n",
       "      <td>C1=CC(=CC=C1CN(CC2=CC(=CC(=C2)F)F)C3=C(C=C(C=C...</td>\n",
       "      <td>C1=CC(=CC=C1CN(CC2=CC(=CC(=C2)F)F)C3=C(C=C(C=C...</td>\n",
       "      <td>JVGQJSSWOAJQSX-UHFFFAOYSA-N</td>\n",
       "      <td>2-[3,5-dibromo-4-[[4-(2,4-dichlorophenoxy)phen...</td>\n",
       "    </tr>\n",
       "    <tr>\n",
       "      <th>1</th>\n",
       "      <td>44274119</td>\n",
       "      <td>4-{[((R)-1-Carboxy-2-thiophen-2-yl-ethyl)-(4-m...</td>\n",
       "      <td>CHEMBL279521|BDBM50111864|4-{[((R)-1-Carboxy-2...</td>\n",
       "      <td>489.60</td>\n",
       "      <td>C23H23NO7S2</td>\n",
       "      <td>InChI=1S/C23H23NO7S2/c1-30-18-9-11-20(12-10-18...</td>\n",
       "      <td>COC1=CC=C(C=C1)S(=O)(=O)N(CC2=CC=C(C=C2)C(=O)O...</td>\n",
       "      <td>COC1=CC=C(C=C1)S(=O)(=O)N(CC2=CC=C(C=C2)C(=O)O...</td>\n",
       "      <td>KIMUGTKRDRMONO-OAQYLSRUSA-N</td>\n",
       "      <td>(2R)-2-[(4-methoxycarbonylphenyl)methyl-(4-met...</td>\n",
       "    </tr>\n",
       "    <tr>\n",
       "      <th>2</th>\n",
       "      <td>121249709</td>\n",
       "      <td>US11098041, Example 55</td>\n",
       "      <td>CHEMBL4846816|SCHEMBL17645676|BDBM514831|US110...</td>\n",
       "      <td>477.50</td>\n",
       "      <td>C25H28FN7O2</td>\n",
       "      <td>InChI=1S/C25H28FN7O2/c1-25(2,3)35-18-13-33(14-...</td>\n",
       "      <td>CC(C)(C)OC1CN(C1)C(=O)NCC2=C(C=C(C=C2)C3=C4C(=...</td>\n",
       "      <td>CC(C)(C)OC1CN(C1)C(=O)NCC2=C(C=C(C=C2)C3=C4C(=...</td>\n",
       "      <td>LNJNLXUYTJCBRG-UHFFFAOYSA-N</td>\n",
       "      <td>N-[[2-fluoro-4-[2-(1-methylpyrazol-4-yl)-1H-im...</td>\n",
       "    </tr>\n",
       "    <tr>\n",
       "      <th>3</th>\n",
       "      <td>90404644</td>\n",
       "      <td>US9656955, Example 402</td>\n",
       "      <td>SCHEMBL16030684|BDBM308888|US9656955, Example ...</td>\n",
       "      <td>396.90</td>\n",
       "      <td>C17H21ClN4O3S</td>\n",
       "      <td>InChI=1S/C17H21ClN4O3S/c1-3-7-25-16-10-22(26(2...</td>\n",
       "      <td>CN1C=C(N=C1)S(=O)(=O)N2C[C@H]([C@@H](C2)OCC=C)...</td>\n",
       "      <td>CN1C=C(N=C1)S(=O)(=O)N2CC(C(C2)OCC=C)NC3=CC(=C...</td>\n",
       "      <td>OWKWYJFITQDFDR-HZPDHXFCSA-N</td>\n",
       "      <td>(3R,4R)-N-(3-chlorophenyl)-1-(1-methylimidazol...</td>\n",
       "    </tr>\n",
       "    <tr>\n",
       "      <th>4</th>\n",
       "      <td>91931781</td>\n",
       "      <td>Trifluoro-acetate5-cyano-2-hydroxymethyl-6-oxo...</td>\n",
       "      <td>CHEMBL329643|BDBM50105672|Trifluoro-acetate5-c...</td>\n",
       "      <td>228.23</td>\n",
       "      <td>C12H10N3O2+</td>\n",
       "      <td>InChI=1S/C12H9N3O2/c13-6-9-5-10(8-1-3-14-4-2-8...</td>\n",
       "      <td>C1=C[NH+]=CC=C1C2=C(NC(=O)C(=C2)C#N)CO</td>\n",
       "      <td>C1=C[NH+]=CC=C1C2=C(NC(=O)C(=C2)C#N)CO</td>\n",
       "      <td>JMDVFNJHUBQULS-UHFFFAOYSA-O</td>\n",
       "      <td>6-(hydroxymethyl)-2-oxo-5-pyridin-1-ium-4-yl-1...</td>\n",
       "    </tr>\n",
       "  </tbody>\n",
       "</table>\n",
       "</div>"
      ],
      "text/plain": [
       "  pubchem_cid                                          drug_name   \n",
       "0    70691115  2-[3,5-Dibromo-4-[[4-(2,4-dichlorophenoxy)phen...  \\\n",
       "1    44274119  4-{[((R)-1-Carboxy-2-thiophen-2-yl-ethyl)-(4-m...   \n",
       "2   121249709                             US11098041, Example 55   \n",
       "3    90404644                             US9656955, Example 402   \n",
       "4    91931781  Trifluoro-acetate5-cyano-2-hydroxymethyl-6-oxo...   \n",
       "\n",
       "                                    compound_synonym  molecular_weight   \n",
       "0                         CHEMBL2087291|BDBM50421202            686.20  \\\n",
       "1  CHEMBL279521|BDBM50111864|4-{[((R)-1-Carboxy-2...            489.60   \n",
       "2  CHEMBL4846816|SCHEMBL17645676|BDBM514831|US110...            477.50   \n",
       "3  SCHEMBL16030684|BDBM308888|US9656955, Example ...            396.90   \n",
       "4  CHEMBL329643|BDBM50105672|Trifluoro-acetate5-c...            228.23   \n",
       "\n",
       "   molecular_formula                                              inchi   \n",
       "0  C28H19Br2Cl2F2NO3  InChI=1S/C28H19Br2Cl2F2NO3/c29-23-9-17(11-27(3...  \\\n",
       "1        C23H23NO7S2  InChI=1S/C23H23NO7S2/c1-30-18-9-11-20(12-10-18...   \n",
       "2        C25H28FN7O2  InChI=1S/C25H28FN7O2/c1-25(2,3)35-18-13-33(14-...   \n",
       "3      C17H21ClN4O3S  InChI=1S/C17H21ClN4O3S/c1-3-7-25-16-10-22(26(2...   \n",
       "4        C12H10N3O2+  InChI=1S/C12H9N3O2/c13-6-9-5-10(8-1-3-14-4-2-8...   \n",
       "\n",
       "                                          iso_smiles   \n",
       "0  C1=CC(=CC=C1CN(CC2=CC(=CC(=C2)F)F)C3=C(C=C(C=C...  \\\n",
       "1  COC1=CC=C(C=C1)S(=O)(=O)N(CC2=CC=C(C=C2)C(=O)O...   \n",
       "2  CC(C)(C)OC1CN(C1)C(=O)NCC2=C(C=C(C=C2)C3=C4C(=...   \n",
       "3  CN1C=C(N=C1)S(=O)(=O)N2C[C@H]([C@@H](C2)OCC=C)...   \n",
       "4             C1=C[NH+]=CC=C1C2=C(NC(=O)C(=C2)C#N)CO   \n",
       "\n",
       "                                    canonical_smiles   \n",
       "0  C1=CC(=CC=C1CN(CC2=CC(=CC(=C2)F)F)C3=C(C=C(C=C...  \\\n",
       "1  COC1=CC=C(C=C1)S(=O)(=O)N(CC2=CC=C(C=C2)C(=O)O...   \n",
       "2  CC(C)(C)OC1CN(C1)C(=O)NCC2=C(C=C(C=C2)C3=C4C(=...   \n",
       "3  CN1C=C(N=C1)S(=O)(=O)N2CC(C(C2)OCC=C)NC3=CC(=C...   \n",
       "4             C1=C[NH+]=CC=C1C2=C(NC(=O)C(=C2)C#N)CO   \n",
       "\n",
       "                     inchi_key   \n",
       "0  JVGQJSSWOAJQSX-UHFFFAOYSA-N  \\\n",
       "1  KIMUGTKRDRMONO-OAQYLSRUSA-N   \n",
       "2  LNJNLXUYTJCBRG-UHFFFAOYSA-N   \n",
       "3  OWKWYJFITQDFDR-HZPDHXFCSA-N   \n",
       "4  JMDVFNJHUBQULS-UHFFFAOYSA-O   \n",
       "\n",
       "                                          iupac_name  \n",
       "0  2-[3,5-dibromo-4-[[4-(2,4-dichlorophenoxy)phen...  \n",
       "1  (2R)-2-[(4-methoxycarbonylphenyl)methyl-(4-met...  \n",
       "2  N-[[2-fluoro-4-[2-(1-methylpyrazol-4-yl)-1H-im...  \n",
       "3  (3R,4R)-N-(3-chlorophenyl)-1-(1-methylimidazol...  \n",
       "4  6-(hydroxymethyl)-2-oxo-5-pyridin-1-ium-4-yl-1...  "
      ]
     },
     "execution_count": 4,
     "metadata": {},
     "output_type": "execute_result"
    }
   ],
   "source": [
    "\n",
    "table_name = \"drug_master_table_hcdt\"\n",
    "resp2 = requests.get(f\"{BASE}/table/{table_name}\")\n",
    "data = resp2.json()    # this is list of dicts\n",
    "df = pd.DataFrame(data)\n",
    "df.head()\n"
   ]
  }
 ],
 "metadata": {
  "kernelspec": {
   "display_name": "ttd3",
   "language": "python",
   "name": "python3"
  },
  "language_info": {
   "codemirror_mode": {
    "name": "ipython",
    "version": 3
   },
   "file_extension": ".py",
   "mimetype": "text/x-python",
   "name": "python",
   "nbconvert_exporter": "python",
   "pygments_lexer": "ipython3",
   "version": "3.10.16"
  }
 },
 "nbformat": 4,
 "nbformat_minor": 5
}
