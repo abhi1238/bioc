{
 "cells": [
  {
   "cell_type": "code",
   "execution_count": 1,
   "id": "92b565e7",
   "metadata": {},
   "outputs": [],
   "source": [
    "from dotenv import load_dotenv\n",
    "import requests\n",
    "from IPython.display import display, JSON"
   ]
  },
  {
   "cell_type": "code",
   "execution_count": 2,
   "id": "09a3073c",
   "metadata": {},
   "outputs": [],
   "source": [
    "BASE_URL = \"http://192.168.22.20:8017\"\n",
    "ENDPOINT = \"/readme_tool/\" \n",
    "URL = BASE_URL + ENDPOINT"
   ]
  },
  {
   "cell_type": "code",
   "execution_count": 3,
   "id": "4047bc7e",
   "metadata": {},
   "outputs": [],
   "source": [
    "query = \"What I can ask you?\""
   ]
  },
  {
   "cell_type": "code",
   "execution_count": 4,
   "id": "bc743b7c",
   "metadata": {},
   "outputs": [],
   "source": [
    "payload = {\n",
    "  \"query\": query\n",
    "  # \"instructions\": \"Answer in one word and cite a reliable source.\"\n",
    "}\n"
   ]
  },
  {
   "cell_type": "code",
   "execution_count": 5,
   "id": "e9ab53e2",
   "metadata": {},
   "outputs": [
    {
     "name": "stdout",
     "output_type": "stream",
     "text": [
      "Sending request for query: '{'query': 'What I can ask you?'}'\n",
      "\n",
      " Success! Agent executed.\n",
      "{'answer': \"#  BioChirp: Conversational Retrieval of Biomedical Data\\n\\nBioChirp is an open-source conversational agent for biomedical research and clinical data science. You can query trusted biomedical databases using **plain language** and receive structured, explainable answers. BioChirp handles drugs, genes, diseases, pathways, targets, and even ambiguous or rare biomedical terms.\\n\\n##  Core Features\\n- **Natural language** queries—no SQL or code required\\n- **Synonym, abbreviation, and acronym expansion** (finds results even if you use alternative terms)\\n- **Multi-database search**: TTD, CTD, HCDT, and more\\n- **Schema-aware retrieval**: Only relevant columns/fields, across sources\\n- **Context fallback**: For ambiguous or unknown terms, BioChirp searches the biomedical literature/web for clarification\\n- **Export options**: Interactive tables, CSV download, summaries\\n##  Example Queries\\n- List all approved drugs for asthma\\n- What drugs treat TB?\\n- Find pathways for BRCA1 targets\\n- What is the mechanism of action for imatinib?\\n- Expand gene synonyms for EGFR\\n- What does 'PCOS' stand for?\\n- Show clinical trials for a given drug or disease\\n##  Output Formats\\n- Interactive tables (in chat)\\n- Downloadable CSVs\\n- Explanatory summaries and highlights\\n##  Usage Tips\\n- Use common names, official terms, or abbreviations (e.g., 'BRCA1', 'imatinib', 'COPD')\\n- BioChirp will clarify or search for any unfamiliar term automatically\\n- For complex tasks, you can ask for details about drugs, genes, diseases, targets, or recent biomedical literature\\n\"}\n",
      "\n",
      "Full Response JSON:\n"
     ]
    },
    {
     "data": {
      "application/json": {
       "answer": "#  BioChirp: Conversational Retrieval of Biomedical Data\n\nBioChirp is an open-source conversational agent for biomedical research and clinical data science. You can query trusted biomedical databases using **plain language** and receive structured, explainable answers. BioChirp handles drugs, genes, diseases, pathways, targets, and even ambiguous or rare biomedical terms.\n\n##  Core Features\n- **Natural language** queries—no SQL or code required\n- **Synonym, abbreviation, and acronym expansion** (finds results even if you use alternative terms)\n- **Multi-database search**: TTD, CTD, HCDT, and more\n- **Schema-aware retrieval**: Only relevant columns/fields, across sources\n- **Context fallback**: For ambiguous or unknown terms, BioChirp searches the biomedical literature/web for clarification\n- **Export options**: Interactive tables, CSV download, summaries\n##  Example Queries\n- List all approved drugs for asthma\n- What drugs treat TB?\n- Find pathways for BRCA1 targets\n- What is the mechanism of action for imatinib?\n- Expand gene synonyms for EGFR\n- What does 'PCOS' stand for?\n- Show clinical trials for a given drug or disease\n##  Output Formats\n- Interactive tables (in chat)\n- Downloadable CSVs\n- Explanatory summaries and highlights\n##  Usage Tips\n- Use common names, official terms, or abbreviations (e.g., 'BRCA1', 'imatinib', 'COPD')\n- BioChirp will clarify or search for any unfamiliar term automatically\n- For complex tasks, you can ask for details about drugs, genes, diseases, targets, or recent biomedical literature\n"
      },
      "text/plain": [
       "<IPython.core.display.JSON object>"
      ]
     },
     "metadata": {
      "application/json": {
       "expanded": false,
       "root": "root"
      }
     },
     "output_type": "display_data"
    }
   ],
   "source": [
    "\n",
    "# --- Send POST Request ---\n",
    "print(f\"Sending request for query: '{payload}'\")\n",
    "try:\n",
    "    response = requests.post(\n",
    "        URL, \n",
    "        json=payload,\n",
    "        # Set a reasonable timeout for external API calls (e.g., 30 seconds)\n",
    "        timeout=30 \n",
    "    )\n",
    "\n",
    "    # --- Process Response ---\n",
    "    if response.status_code == 200:\n",
    "        print(\"\\n Success! Agent executed.\")\n",
    "        \n",
    "        # FastAPI returns a JSON response which requests.json() converts to a Python dict\n",
    "        data = response.json()\n",
    "\n",
    "        print(data)\n",
    "        \n",
    "        \n",
    "        # Display the full JSON response interactively\n",
    "        print(\"\\nFull Response JSON:\")\n",
    "        display(JSON(data))\n",
    "\n",
    "    elif response.status_code == 500:\n",
    "        # This handles the HTTPException raised in your FastAPI code\n",
    "        error_detail = response.json().get('detail', 'No details.')\n",
    "        print(f\"\\n Execution Failed (Status: 500).\")\n",
    "        print(f\"Server Detail: {error_detail}\")\n",
    "\n",
    "    else:\n",
    "        print(f\"\\n Unexpected Error (Status: {response.status_code}).\")\n",
    "        print(f\"Response: {response.text}\")\n",
    "\n",
    "except requests.exceptions.ConnectionError:\n",
    "    print(f\"\\n **CONNECTION ERROR:** Server is not running at {URL}.\")\n",
    "    print(\"Ensure Uvicorn is running in your terminal.\")\n",
    "    \n",
    "except requests.exceptions.Timeout:\n",
    "    print(f\"\\n **TIMEOUT ERROR:** The agent took longer than 30 seconds to respond.\")"
   ]
  }
 ],
 "metadata": {
  "kernelspec": {
   "display_name": "ttd3",
   "language": "python",
   "name": "python3"
  },
  "language_info": {
   "codemirror_mode": {
    "name": "ipython",
    "version": 3
   },
   "file_extension": ".py",
   "mimetype": "text/x-python",
   "name": "python",
   "nbconvert_exporter": "python",
   "pygments_lexer": "ipython3",
   "version": "3.10.16"
  }
 },
 "nbformat": 4,
 "nbformat_minor": 5
}
