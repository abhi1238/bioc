{
 "cells": [
  {
   "cell_type": "code",
   "execution_count": 1,
   "id": "d1b8eb15",
   "metadata": {},
   "outputs": [],
   "source": [
    "from dotenv import load_dotenv\n",
    "import requests\n",
    "from IPython.display import display, JSON\n"
   ]
  },
  {
   "cell_type": "code",
   "execution_count": 2,
   "id": "6cf03481",
   "metadata": {},
   "outputs": [
    {
     "data": {
      "text/plain": [
       "True"
      ]
     },
     "execution_count": 2,
     "metadata": {},
     "output_type": "execute_result"
    }
   ],
   "source": [
    "load_dotenv(override=True)"
   ]
  },
  {
   "cell_type": "code",
   "execution_count": null,
   "id": "50286dff",
   "metadata": {},
   "outputs": [],
   "source": [
    "BASE_URL = \"http://192.168.22.20:8015\"\n",
    "ENDPOINT = \"/web_tool/\" \n",
    "URL = BASE_URL + ENDPOINT\n",
    "\n"
   ]
  },
  {
   "cell_type": "code",
   "execution_count": 4,
   "id": "f306ab79",
   "metadata": {},
   "outputs": [],
   "source": [
    "query = \"What is drug for tb?\""
   ]
  },
  {
   "cell_type": "code",
   "execution_count": 5,
   "id": "d4f55a76",
   "metadata": {},
   "outputs": [],
   "source": [
    "payload = {\n",
    "  \"query\": query\n",
    "  # \"instructions\": \"Answer in one word and cite a reliable source.\"\n",
    "}\n"
   ]
  },
  {
   "cell_type": "code",
   "execution_count": 6,
   "id": "e91254e8",
   "metadata": {},
   "outputs": [
    {
     "name": "stdout",
     "output_type": "stream",
     "text": [
      "Sending request for query: '{'query': 'What is drug for tb?'}'\n",
      "\n",
      " Success! Agent executed.\n",
      "\n",
      "**Agent Answer:**\n",
      "--------------------------------------------------\n",
      "The primary drug used to treat tuberculosis (TB) is **isoniazid**, often combined with **rifampicin** (also known as rifampin), **pyrazinamide**, and **ethambutol** in a regimen called the **RIPE therapy**. This combination is effective against most strains of Mycobacterium tuberculosis. Treatment usually lasts for at least six months to ensure complete eradication of the bacteria and to prevent the development of drug-resistant TB. Other drugs, such as **streptomycin**, may be used in specific cases or for multidrug-resistant TB.\n",
      "\n",
      "References:\n",
      "- [WHO: Tuberculosis](https://www.who.int/news-room/fact-sheets/detail/tuberculosis)\n",
      "- [CDC: Treatment for TB](https://www.cdc.gov/tb/topic/treatment/default.htm) \n",
      "- [PubMed: Overview of TB Treatment](https://pubmed.ncbi.nlm.nih.gov/30535272/)  \n",
      "\n",
      "This answer is not medical advice. Consult a healthcare provider for treatment decisions.\n",
      "--------------------------------------------------\n",
      "\n",
      "Full Response JSON:\n",
      "\n",
      " Success! Agent executed.\n",
      "\n",
      "**Agent Answer:**\n",
      "--------------------------------------------------\n",
      "The primary drug used to treat tuberculosis (TB) is **isoniazid**, often combined with **rifampicin** (also known as rifampin), **pyrazinamide**, and **ethambutol** in a regimen called the **RIPE therapy**. This combination is effective against most strains of Mycobacterium tuberculosis. Treatment usually lasts for at least six months to ensure complete eradication of the bacteria and to prevent the development of drug-resistant TB. Other drugs, such as **streptomycin**, may be used in specific cases or for multidrug-resistant TB.\n",
      "\n",
      "References:\n",
      "- [WHO: Tuberculosis](https://www.who.int/news-room/fact-sheets/detail/tuberculosis)\n",
      "- [CDC: Treatment for TB](https://www.cdc.gov/tb/topic/treatment/default.htm) \n",
      "- [PubMed: Overview of TB Treatment](https://pubmed.ncbi.nlm.nih.gov/30535272/)  \n",
      "\n",
      "This answer is not medical advice. Consult a healthcare provider for treatment decisions.\n",
      "--------------------------------------------------\n",
      "\n",
      "Full Response JSON:\n"
     ]
    },
    {
     "data": {
      "application/json": {
       "answer": "The primary drug used to treat tuberculosis (TB) is **isoniazid**, often combined with **rifampicin** (also known as rifampin), **pyrazinamide**, and **ethambutol** in a regimen called the **RIPE therapy**. This combination is effective against most strains of Mycobacterium tuberculosis. Treatment usually lasts for at least six months to ensure complete eradication of the bacteria and to prevent the development of drug-resistant TB. Other drugs, such as **streptomycin**, may be used in specific cases or for multidrug-resistant TB.\n\nReferences:\n- [WHO: Tuberculosis](https://www.who.int/news-room/fact-sheets/detail/tuberculosis)\n- [CDC: Treatment for TB](https://www.cdc.gov/tb/topic/treatment/default.htm) \n- [PubMed: Overview of TB Treatment](https://pubmed.ncbi.nlm.nih.gov/30535272/)  \n\nThis answer is not medical advice. Consult a healthcare provider for treatment decisions."
      },
      "text/plain": [
       "<IPython.core.display.JSON object>"
      ]
     },
     "metadata": {
      "application/json": {
       "expanded": false,
       "root": "root"
      }
     },
     "output_type": "display_data"
    }
   ],
   "source": [
    "\n",
    "# --- Send POST Request ---\n",
    "print(f\"Sending request for query: '{payload}'\")\n",
    "try:\n",
    "    response = requests.post(\n",
    "        URL, \n",
    "        json=payload,\n",
    "        # Set a reasonable timeout for external API calls (e.g., 30 seconds)\n",
    "        timeout=30 \n",
    "    )\n",
    "\n",
    "    # --- Process Response ---\n",
    "    if response.status_code == 200:\n",
    "        print(\"\\n Success! Agent executed.\")\n",
    "        \n",
    "        # FastAPI returns a JSON response which requests.json() converts to a Python dict\n",
    "        data = response.json()\n",
    "        \n",
    "        print(\"\\n**Agent Answer:**\")\n",
    "        print(\"--------------------------------------------------\")\n",
    "        print(data.get(\"answer\", \"No answer key found.\"))\n",
    "        print(\"--------------------------------------------------\")\n",
    "        \n",
    "        # Display the full JSON response interactively\n",
    "        print(\"\\nFull Response JSON:\")\n",
    "        display(JSON(data))\n",
    "\n",
    "    elif response.status_code == 500:\n",
    "        # This handles the HTTPException raised in your FastAPI code\n",
    "        error_detail = response.json().get('detail', 'No details.')\n",
    "        print(f\"\\n Execution Failed (Status: 500).\")\n",
    "        print(f\"Server Detail: {error_detail}\")\n",
    "\n",
    "    else:\n",
    "        print(f\"\\n Unexpected Error (Status: {response.status_code}).\")\n",
    "        print(f\"Response: {response.text}\")\n",
    "\n",
    "except requests.exceptions.ConnectionError:\n",
    "    print(f\"\\n **CONNECTION ERROR:** Server is not running at {URL}.\")\n",
    "    print(\"Ensure Uvicorn is running in your terminal.\")\n",
    "    \n",
    "except requests.exceptions.Timeout:\n",
    "    print(f\"\\n **TIMEOUT ERROR:** The agent took longer than 30 seconds to respond.\")"
   ]
  }
 ],
 "metadata": {
  "kernelspec": {
   "display_name": "ttd3",
   "language": "python",
   "name": "python3"
  },
  "language_info": {
   "codemirror_mode": {
    "name": "ipython",
    "version": 3
   },
   "file_extension": ".py",
   "mimetype": "text/x-python",
   "name": "python",
   "nbconvert_exporter": "python",
   "pygments_lexer": "ipython3",
   "version": "3.10.16"
  }
 },
 "nbformat": 4,
 "nbformat_minor": 5
}
