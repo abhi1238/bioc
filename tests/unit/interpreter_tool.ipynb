{
 "cells": [
  {
   "cell_type": "code",
   "execution_count": 1,
   "id": "82fdab78",
   "metadata": {},
   "outputs": [],
   "source": [
    "from dotenv import load_dotenv\n",
    "import requests\n",
    "from IPython.display import display, JSON\n"
   ]
  },
  {
   "cell_type": "code",
   "execution_count": 2,
   "id": "862aba5f",
   "metadata": {},
   "outputs": [
    {
     "data": {
      "text/plain": [
       "True"
      ]
     },
     "execution_count": 2,
     "metadata": {},
     "output_type": "execute_result"
    }
   ],
   "source": [
    "load_dotenv(override=True)"
   ]
  },
  {
   "cell_type": "code",
   "execution_count": 3,
   "id": "63161da1",
   "metadata": {},
   "outputs": [],
   "source": [
    "BASE_URL = \"http://192.168.22.20:8016\"\n",
    "ENDPOINT = \"/interpreter_tool\" \n",
    "URL = BASE_URL + ENDPOINT"
   ]
  },
  {
   "cell_type": "code",
   "execution_count": 4,
   "id": "69e97b9a",
   "metadata": {},
   "outputs": [],
   "source": [
    "query = \"What is drug for tb?\""
   ]
  },
  {
   "cell_type": "code",
   "execution_count": 5,
   "id": "7f05a071",
   "metadata": {},
   "outputs": [],
   "source": [
    "payload = {\n",
    "  \"query\": query,\n",
    "  \"provider\": \"openai\",\n",
    "  \"model\": \"gpt-4o-mini\",\n",
    "  # \"instructions\": \"Answer in one word and cite a reliable source.\"\n",
    "}\n"
   ]
  },
  {
   "cell_type": "code",
   "execution_count": null,
   "id": "d729a477",
   "metadata": {},
   "outputs": [],
   "source": [
    "payload = {\n",
    "  \"query\": query,\n",
    "#   \"provider\": \"openai\",\n",
    "#   \"model\": \"gpt-4o-mini\",\n",
    "  # \"instructions\": \"Answer in one word and cite a reliable source.\"\n",
    "}"
   ]
  },
  {
   "cell_type": "code",
   "execution_count": 6,
   "id": "2abb2744",
   "metadata": {},
   "outputs": [
    {
     "name": "stdout",
     "output_type": "stream",
     "text": [
      "Sending request for query: '{'query': 'What is drug for tb?', 'provider': 'openai', 'model': 'gpt-4o-mini'}'\n",
      "\n",
      " Success! Agent executed.\n",
      "\n",
      "Full Response JSON:\n"
     ]
    },
    {
     "data": {
      "application/json": {
       "cleaned_query": "What is the drug for tuberculosis?",
       "explanation": "Your question is asking for a drug related to tuberculosis but does not provide enough specific information to process. Hence, we will look for answers via web search.",
       "message_to_user": "Your query is missing specific schema fields. We are handing over to web search.",
       "parsed_value": {
        "approval_status": null,
        "biomarker_name": null,
        "disease_name": [
         "tuberculosis"
        ],
        "drug_mechanism_of_action_on_target": null,
        "drug_name": "requested",
        "gene_name": null,
        "pathway_name": null,
        "target_name": null
       },
       "reasoning": "The query asks for a drug but does not specify a required schema field like drug_name or approval_status. Ambiguity remains as it lacks details.",
       "route": "web",
       "status": "invalid",
       "suggestions": [
        "List drugs for tuberculosis as drug_name.",
        "Find approved drugs targeting tuberculosis as drug_name."
       ]
      },
      "text/plain": [
       "<IPython.core.display.JSON object>"
      ]
     },
     "metadata": {
      "application/json": {
       "expanded": false,
       "root": "root"
      }
     },
     "output_type": "display_data"
    }
   ],
   "source": [
    "\n",
    "# --- Send POST Request ---\n",
    "print(f\"Sending request for query: '{payload}'\")\n",
    "try:\n",
    "    response = requests.post(\n",
    "        URL, \n",
    "        json=payload,\n",
    "        # Set a reasonable timeout for external API calls (e.g., 30 seconds)\n",
    "        timeout=30 \n",
    "    )\n",
    "\n",
    "    # --- Process Response ---\n",
    "    if response.status_code == 200:\n",
    "        print(\"\\n Success! Agent executed.\")\n",
    "        \n",
    "        # FastAPI returns a JSON response which requests.json() converts to a Python dict\n",
    "        data = response.json()\n",
    "\n",
    "        \n",
    "        # Display the full JSON response interactively\n",
    "        print(\"\\nFull Response JSON:\")\n",
    "        display(JSON(data))\n",
    "\n",
    "    elif response.status_code == 500:\n",
    "        # This handles the HTTPException raised in your FastAPI code\n",
    "        error_detail = response.json().get('detail', 'No details.')\n",
    "        print(f\"\\n Execution Failed (Status: 500).\")\n",
    "        print(f\"Server Detail: {error_detail}\")\n",
    "\n",
    "    else:\n",
    "        print(f\"\\n Unexpected Error (Status: {response.status_code}).\")\n",
    "        print(f\"Response: {response.text}\")\n",
    "\n",
    "except requests.exceptions.ConnectionError:\n",
    "    print(f\"\\n **CONNECTION ERROR:** Server is not running at {URL}.\")\n",
    "    print(\"Ensure Uvicorn is running in your terminal.\")\n",
    "    \n",
    "except requests.exceptions.Timeout:\n",
    "    print(f\"\\n **TIMEOUT ERROR:** The agent took longer than 30 seconds to respond.\")"
   ]
  }
 ],
 "metadata": {
  "kernelspec": {
   "display_name": "ttd3",
   "language": "python",
   "name": "python3"
  },
  "language_info": {
   "codemirror_mode": {
    "name": "ipython",
    "version": 3
   },
   "file_extension": ".py",
   "mimetype": "text/x-python",
   "name": "python",
   "nbconvert_exporter": "python",
   "pygments_lexer": "ipython3",
   "version": "3.10.16"
  }
 },
 "nbformat": 4,
 "nbformat_minor": 5
}
