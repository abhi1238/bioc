{
 "cells": [
  {
   "cell_type": "code",
   "execution_count": 1,
   "id": "737f6372",
   "metadata": {},
   "outputs": [
    {
     "name": "stdout",
     "output_type": "stream",
     "text": [
      "Project root successfully set to: /home/abhishekh/bioc\n"
     ]
    }
   ],
   "source": [
    "import sys\n",
    "from pathlib import Path\n",
    "\n",
    "def find_project_root(marker: str = \"app\") -> Path:\n",
    "    # Start the search from the current working directory\n",
    "    p = Path.cwd().resolve()\n",
    "    \n",
    "    # Iterate through parents to find the project root marked by the 'app' directory\n",
    "    for parent in [p] + list(p.parents): # Include the current path in the search\n",
    "        if (parent / marker).exists():\n",
    "            return parent\n",
    "            \n",
    "    # If the project root is the current working directory\n",
    "    if (p / marker).exists():\n",
    "        return p\n",
    "        \n",
    "    raise RuntimeError(f\"Project root marked by '{marker}' not found in current directory or its parents.\")\n",
    "\n",
    "project_root = find_project_root()\n",
    "if str(project_root) not in sys.path:\n",
    "    sys.path.insert(0, str(project_root))\n",
    "\n",
    "print(f\"Project root successfully set to: {project_root}\")\n",
    "\n",
    "if str(project_root) not in sys.path:\n",
    "    sys.path.insert(0, str(project_root))"
   ]
  },
  {
   "cell_type": "code",
   "execution_count": 2,
   "id": "70afc1fb",
   "metadata": {},
   "outputs": [],
   "source": [
    "import sys\n",
    "from pathlib import Path\n",
    "from pydantic import BaseModel, Field\n",
    "from typing import List, Optional, Union\n",
    "from dotenv import load_dotenv\n",
    "import requests\n",
    "from IPython.display import display, JSON\n",
    "from agents import Agent, Runner\n",
    "import os\n",
    "from app.tools.web_agent.web_tool import web_tool\n"
   ]
  },
  {
   "cell_type": "code",
   "execution_count": 3,
   "id": "bb572591",
   "metadata": {},
   "outputs": [],
   "source": [
    "class WebToolInput(BaseModel):\n",
    "    query: str\n",
    "    instructions: Optional[str] = None"
   ]
  },
  {
   "cell_type": "code",
   "execution_count": 4,
   "id": "4652f63e",
   "metadata": {},
   "outputs": [],
   "source": [
    "md_file_path = \"agent_orchestrator.md\"\n",
    "with open(md_file_path, \"r\", encoding=\"utf-8\") as f:\n",
    "    prompt_md = f.read()"
   ]
  },
  {
   "cell_type": "code",
   "execution_count": 5,
   "id": "d93eaaff",
   "metadata": {},
   "outputs": [
    {
     "data": {
      "text/plain": [
       "True"
      ]
     },
     "execution_count": 5,
     "metadata": {},
     "output_type": "execute_result"
    }
   ],
   "source": [
    "load_dotenv(override=True)"
   ]
  },
  {
   "cell_type": "code",
   "execution_count": 6,
   "id": "b3cd6819",
   "metadata": {},
   "outputs": [],
   "source": [
    "query = \"What is drug for tb?\""
   ]
  },
  {
   "cell_type": "code",
   "execution_count": 7,
   "id": "8f8cdce5",
   "metadata": {},
   "outputs": [],
   "source": [
    "orchestrator_agent = Agent(\n",
    "    name=\"Orchestrator\", instructions= prompt_md,\n",
    "    tools=[web_tool],\n",
    "    model=\"gpt-5-mini\",\n",
    ")"
   ]
  },
  {
   "cell_type": "code",
   "execution_count": 8,
   "id": "66cf42f8",
   "metadata": {},
   "outputs": [
    {
     "name": "stdout",
     "output_type": "stream",
     "text": [
      "[RUNNING] Web tool\n",
      "[Web tool] outout {'answer': \"The World Health Organization (WHO) recommends a standard six-month regimen for treating drug-susceptible tuberculosis (TB), consisting of four first-line drugs:\\n\\n- **Isoniazid (H)**: Provides early bactericidal activity against rapidly dividing TB bacteria.\\n- **Rifampicin (R)**: Offers strong bactericidal and sterilizing effects.\\n- **Pyrazinamide (Z)**: Effective in acidic environments, targeting semi-dormant bacteria.\\n- **Ethambutol (E)**: Inhibits bacterial growth, preventing resistance development.\\n\\nThese drugs are typically administered daily for the first two months, followed by isoniazid and rifampicin for the remaining four months. ([who.int](https://www.who.int/publications/digital/global-tuberculosis-report-2021/tb-diagnosis-treatment/treatment?utm_source=openai))\\n\\nIn the United States, the Food and Drug Administration (FDA) has approved ten drugs for TB treatment, including the four first-line agents: isoniazid, rifampin, ethambutol, and pyrazinamide. ([atsjournals.org](https://www.atsjournals.org/doi/full/10.1164/rccm.167.4.603?utm_source=openai))\\n\\nIt's important to note that while these first-line drugs are effective against drug-susceptible TB, their efficacy may be reduced in cases of drug-resistant TB. ([pubmed.ncbi.nlm.nih.gov](https://pubmed.ncbi.nlm.nih.gov/27865891/?utm_source=openai))\\n\\nAlways consult a healthcare provider for personalized medical advice.\"}\n",
      "[FINISHED] Web tool\n"
     ]
    }
   ],
   "source": [
    "result = await Runner.run(\n",
    "    orchestrator_agent,\n",
    "        input=query\n",
    ")\n",
    "output_obj = result.final_output"
   ]
  },
  {
   "cell_type": "code",
   "execution_count": 9,
   "id": "a10ed0e0",
   "metadata": {},
   "outputs": [
    {
     "name": "stdout",
     "output_type": "stream",
     "text": [
      "Good day, **User**! (2025-10-03)\n",
      "\n",
      "For drug-susceptible tuberculosis, the World Health Organization recommends a six-month regimen that starts with a two-month intensive phase of four first-line agents—**Isoniazid (H)**, **Rifampicin / Rifampin (R)**, **Pyrazinamide (Z)**, and **Ethambutol (E)**—followed by a four-month continuation phase of **Isoniazid** plus **Rifampicin** (WHO guidance) ([Web](https://www.who.int/publications/digital/global-tuberculosis-report-2021/tb-diagnosis-treatment/treatment?utm_source=openai)). For drug-resistant or multidrug-resistant TB, newer and second-line options that WHO and regulatory sources discuss include **Bedaquiline**, **Delamanid**, **Pretomanid**, **Linezolid**, **Clofazimine**, and, where indicated, injectable agents such as **Amikacin** or **Capreomycin**; specific selection and duration depend on resistance patterns and specialist guidance ([Web](https://www.who.int/publications/digital/global-tuberculosis-report-2021/tb-diagnosis-treatment/treatment?utm_source=openai)).\n"
     ]
    }
   ],
   "source": [
    "print(output_obj)"
   ]
  }
 ],
 "metadata": {
  "kernelspec": {
   "display_name": "ttd3",
   "language": "python",
   "name": "python3"
  },
  "language_info": {
   "codemirror_mode": {
    "name": "ipython",
    "version": 3
   },
   "file_extension": ".py",
   "mimetype": "text/x-python",
   "name": "python",
   "nbconvert_exporter": "python",
   "pygments_lexer": "ipython3",
   "version": "3.10.16"
  }
 },
 "nbformat": 4,
 "nbformat_minor": 5
}
