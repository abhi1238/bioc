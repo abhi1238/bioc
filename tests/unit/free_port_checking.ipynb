{
 "cells": [
  {
   "cell_type": "code",
   "execution_count": 3,
   "id": "3ba0b69c",
   "metadata": {},
   "outputs": [],
   "source": [
    "import socket"
   ]
  },
  {
   "cell_type": "code",
   "execution_count": 4,
   "id": "d774f133",
   "metadata": {},
   "outputs": [
    {
     "name": "stdout",
     "output_type": "stream",
     "text": [
      "Port 8000 is FREE\n",
      "Port 8001 is IN USE\n",
      "Port 8002 is IN USE\n",
      "Port 8003 is IN USE\n",
      "Port 8004 is IN USE\n",
      "Port 8005 is FREE\n",
      "Port 8006 is IN USE\n",
      "Port 8007 is IN USE\n",
      "Port 8008 is IN USE\n",
      "Port 8009 is IN USE\n",
      "Port 8010 is IN USE\n",
      "Port 8011 is IN USE\n",
      "Port 8012 is FREE\n",
      "Port 8013 is FREE\n",
      "Port 8014 is FREE\n"
     ]
    }
   ],
   "source": [
    "for port in range(8000, 8015):\n",
    "    with socket.socket(socket.AF_INET, socket.SOCK_STREAM) as s:\n",
    "        res = s.connect_ex(('localhost', port))\n",
    "        if res != 0:\n",
    "            print(f\"Port {port} is FREE\")\n",
    "        else:\n",
    "            print(f\"Port {port} is IN USE\")\n"
   ]
  }
 ],
 "metadata": {
  "kernelspec": {
   "display_name": "ttd3",
   "language": "python",
   "name": "python3"
  },
  "language_info": {
   "codemirror_mode": {
    "name": "ipython",
    "version": 3
   },
   "file_extension": ".py",
   "mimetype": "text/x-python",
   "name": "python",
   "nbconvert_exporter": "python",
   "pygments_lexer": "ipython3",
   "version": "3.10.16"
  }
 },
 "nbformat": 4,
 "nbformat_minor": 5
}
