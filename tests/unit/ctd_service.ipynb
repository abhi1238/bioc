{
 "cells": [
  {
   "cell_type": "code",
   "execution_count": 7,
   "id": "8d4a6bac",
   "metadata": {},
   "outputs": [],
   "source": [
    "import requests\n",
    "import pandas as pd"
   ]
  },
  {
   "cell_type": "code",
   "execution_count": 8,
   "id": "b0341a45",
   "metadata": {},
   "outputs": [],
   "source": [
    "BASE = \"http://localhost:8013\""
   ]
  },
  {
   "cell_type": "markdown",
   "id": "ca7b56e7",
   "metadata": {},
   "source": [
    "##### 1. List all tables"
   ]
  },
  {
   "cell_type": "code",
   "execution_count": null,
   "id": "5a26f448",
   "metadata": {},
   "outputs": [
    {
     "name": "stdout",
     "output_type": "stream",
     "text": [
      "Status code: 200\n",
      "Response text: [\"chemical_gene_association_ctd\",\"chemical_master_table_ctd\",\"chemical_disease_association_ctd\",\"disease_master_table_ctd\",\"gene_master_table_ctd\",\"gene_pathway_association_ctd\",\"disease_pathway_association_ctd\",\"pathway_master_table_ctd\"]\n"
     ]
    }
   ],
   "source": [
    "resp = requests.get(f\"{BASE}/tables\")\n",
    "print(\"Status code:\", resp.status_code)\n",
    "print(\"Response text:\", resp.text)"
   ]
  },
  {
   "cell_type": "markdown",
   "id": "19c80753",
   "metadata": {},
   "source": [
    "##### 2. Get one table, e.g. pathway_master_table_ctd"
   ]
  },
  {
   "cell_type": "code",
   "execution_count": 10,
   "id": "60753b9c",
   "metadata": {},
   "outputs": [
    {
     "data": {
      "text/html": [
       "<div>\n",
       "<style scoped>\n",
       "    .dataframe tbody tr th:only-of-type {\n",
       "        vertical-align: middle;\n",
       "    }\n",
       "\n",
       "    .dataframe tbody tr th {\n",
       "        vertical-align: top;\n",
       "    }\n",
       "\n",
       "    .dataframe thead th {\n",
       "        text-align: right;\n",
       "    }\n",
       "</style>\n",
       "<table border=\"1\" class=\"dataframe\">\n",
       "  <thead>\n",
       "    <tr style=\"text-align: right;\">\n",
       "      <th></th>\n",
       "      <th>pathway_name</th>\n",
       "      <th>pathway_id</th>\n",
       "    </tr>\n",
       "  </thead>\n",
       "  <tbody>\n",
       "    <tr>\n",
       "      <th>0</th>\n",
       "      <td>Pentose phosphate pathway, oxidative phase, gl...</td>\n",
       "      <td>KEGG:hsa_M00006</td>\n",
       "    </tr>\n",
       "    <tr>\n",
       "      <th>1</th>\n",
       "      <td>Cell-cell junction organization</td>\n",
       "      <td>REACT:R-HSA-421270</td>\n",
       "    </tr>\n",
       "    <tr>\n",
       "      <th>2</th>\n",
       "      <td>MHC class II antigen presentation</td>\n",
       "      <td>REACT:R-HSA-2132295</td>\n",
       "    </tr>\n",
       "    <tr>\n",
       "      <th>3</th>\n",
       "      <td>Classical antibody-mediated complement activation</td>\n",
       "      <td>REACT:R-HSA-173623</td>\n",
       "    </tr>\n",
       "    <tr>\n",
       "      <th>4</th>\n",
       "      <td>Stimuli-sensing channels</td>\n",
       "      <td>REACT:R-HSA-2672351</td>\n",
       "    </tr>\n",
       "  </tbody>\n",
       "</table>\n",
       "</div>"
      ],
      "text/plain": [
       "                                        pathway_name           pathway_id\n",
       "0  Pentose phosphate pathway, oxidative phase, gl...      KEGG:hsa_M00006\n",
       "1                    Cell-cell junction organization   REACT:R-HSA-421270\n",
       "2                  MHC class II antigen presentation  REACT:R-HSA-2132295\n",
       "3  Classical antibody-mediated complement activation   REACT:R-HSA-173623\n",
       "4                           Stimuli-sensing channels  REACT:R-HSA-2672351"
      ]
     },
     "execution_count": 10,
     "metadata": {},
     "output_type": "execute_result"
    }
   ],
   "source": [
    "\n",
    "table_name = \"pathway_master_table_ctd\"\n",
    "resp2 = requests.get(f\"{BASE}/table/{table_name}\")\n",
    "data = resp2.json()    # this is list of dicts\n",
    "df = pd.DataFrame(data)\n",
    "df.head()\n"
   ]
  }
 ],
 "metadata": {
  "kernelspec": {
   "display_name": "ttd3",
   "language": "python",
   "name": "python3"
  },
  "language_info": {
   "codemirror_mode": {
    "name": "ipython",
    "version": 3
   },
   "file_extension": ".py",
   "mimetype": "text/x-python",
   "name": "python",
   "nbconvert_exporter": "python",
   "pygments_lexer": "ipython3",
   "version": "3.10.16"
  }
 },
 "nbformat": 4,
 "nbformat_minor": 5
}
