{
 "cells": [
  {
   "cell_type": "code",
   "execution_count": 1,
   "id": "8d4a6bac",
   "metadata": {},
   "outputs": [],
   "source": [
    "import requests\n",
    "import pandas as pd"
   ]
  },
  {
   "cell_type": "code",
   "execution_count": 2,
   "id": "b0341a45",
   "metadata": {},
   "outputs": [],
   "source": [
    "BASE = \"http://localhost:8013\""
   ]
  },
  {
   "cell_type": "code",
   "execution_count": 3,
   "id": "5a26f448",
   "metadata": {},
   "outputs": [
    {
     "name": "stdout",
     "output_type": "stream",
     "text": [
      "Status code: 500\n",
      "Response text: Internal Server Error\n"
     ]
    }
   ],
   "source": [
    "resp = requests.get(f\"{BASE}/tables\")\n",
    "print(\"Status code:\", resp.status_code)\n",
    "print(\"Response text:\", resp.text)\n",
    "\n",
    "# tables = resp.json()\n",
    "# print(\"Available tables:\", tables)"
   ]
  },
  {
   "cell_type": "code",
   "execution_count": null,
   "id": "60753b9c",
   "metadata": {},
   "outputs": [],
   "source": []
  }
 ],
 "metadata": {
  "kernelspec": {
   "display_name": "ttd3",
   "language": "python",
   "name": "python3"
  },
  "language_info": {
   "codemirror_mode": {
    "name": "ipython",
    "version": 3
   },
   "file_extension": ".py",
   "mimetype": "text/x-python",
   "name": "python",
   "nbconvert_exporter": "python",
   "pygments_lexer": "ipython3",
   "version": "3.10.16"
  }
 },
 "nbformat": 4,
 "nbformat_minor": 5
}
