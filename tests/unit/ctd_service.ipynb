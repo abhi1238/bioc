{
 "cells": [
  {
   "cell_type": "code",
   "execution_count": 17,
   "id": "8d4a6bac",
   "metadata": {},
   "outputs": [],
   "source": [
    "import requests\n",
    "import pandas as pd"
   ]
  },
  {
   "cell_type": "code",
   "execution_count": 18,
   "id": "b0341a45",
   "metadata": {},
   "outputs": [],
   "source": [
    "BASE = \"http://localhost:8013\""
   ]
  },
  {
   "cell_type": "markdown",
   "id": "ca7b56e7",
   "metadata": {},
   "source": [
    "##### 1. List all tables"
   ]
  },
  {
   "cell_type": "code",
   "execution_count": 19,
   "id": "5a26f448",
   "metadata": {},
   "outputs": [
    {
     "name": "stdout",
     "output_type": "stream",
     "text": [
      "Status code: 200\n",
      "Response text: [\"chemical_gene_association_ctd\",\"chemical_master_table_ctd\",\"chemical_disease_association_ctd\",\"disease_master_table_ctd\",\"gene_master_table_ctd\",\"gene_pathway_association_ctd\",\"disease_pathway_association_ctd\",\"pathway_master_table_ctd\"]\n"
     ]
    }
   ],
   "source": [
    "resp = requests.get(f\"{BASE}/tables\")\n",
    "print(\"Status code:\", resp.status_code)\n",
    "print(\"Response text:\", resp.text)"
   ]
  },
  {
   "cell_type": "markdown",
   "id": "19c80753",
   "metadata": {},
   "source": [
    "##### 2. Get one table, e.g. pathway_master_table_ctd"
   ]
  },
  {
   "cell_type": "code",
   "execution_count": 20,
   "id": "60753b9c",
   "metadata": {},
   "outputs": [
    {
     "data": {
      "text/html": [
       "<div>\n",
       "<style scoped>\n",
       "    .dataframe tbody tr th:only-of-type {\n",
       "        vertical-align: middle;\n",
       "    }\n",
       "\n",
       "    .dataframe tbody tr th {\n",
       "        vertical-align: top;\n",
       "    }\n",
       "\n",
       "    .dataframe thead th {\n",
       "        text-align: right;\n",
       "    }\n",
       "</style>\n",
       "<table border=\"1\" class=\"dataframe\">\n",
       "  <thead>\n",
       "    <tr style=\"text-align: right;\">\n",
       "      <th></th>\n",
       "      <th>drug_name</th>\n",
       "      <th>drug_id</th>\n",
       "      <th>cas_rn</th>\n",
       "    </tr>\n",
       "  </thead>\n",
       "  <tbody>\n",
       "    <tr>\n",
       "      <th>0</th>\n",
       "      <td>5-carboxy-1,1,3,3-tetramethylisoindolin-2-ylox...</td>\n",
       "      <td>C499783</td>\n",
       "      <td>None</td>\n",
       "    </tr>\n",
       "    <tr>\n",
       "      <th>1</th>\n",
       "      <td>abietyl-isothiocyanate</td>\n",
       "      <td>C575865</td>\n",
       "      <td>None</td>\n",
       "    </tr>\n",
       "    <tr>\n",
       "      <th>2</th>\n",
       "      <td>(1S,32R,5S,6R,7R)-6-((R)-3,4-di-hydroxy-4-meth...</td>\n",
       "      <td>C000591806</td>\n",
       "      <td>None</td>\n",
       "    </tr>\n",
       "    <tr>\n",
       "      <th>3</th>\n",
       "      <td>fumagillin</td>\n",
       "      <td>C026211</td>\n",
       "      <td>23110-15-8</td>\n",
       "    </tr>\n",
       "    <tr>\n",
       "      <th>4</th>\n",
       "      <td>Herbicides</td>\n",
       "      <td>D006540</td>\n",
       "      <td>None</td>\n",
       "    </tr>\n",
       "  </tbody>\n",
       "</table>\n",
       "</div>"
      ],
      "text/plain": [
       "                                           drug_name     drug_id      cas_rn\n",
       "0  5-carboxy-1,1,3,3-tetramethylisoindolin-2-ylox...     C499783        None\n",
       "1                             abietyl-isothiocyanate     C575865        None\n",
       "2  (1S,32R,5S,6R,7R)-6-((R)-3,4-di-hydroxy-4-meth...  C000591806        None\n",
       "3                                         fumagillin     C026211  23110-15-8\n",
       "4                                         Herbicides     D006540        None"
      ]
     },
     "execution_count": 20,
     "metadata": {},
     "output_type": "execute_result"
    }
   ],
   "source": [
    "table_name = \"chemical_master_table_ctd\"\n",
    "resp2 = requests.get(f\"{BASE}/table/{table_name}\")\n",
    "data = resp2.json()    # this is list of dicts\n",
    "df = pd.DataFrame(data)\n",
    "df.head()\n"
   ]
  }
 ],
 "metadata": {
  "kernelspec": {
   "display_name": "ttd3",
   "language": "python",
   "name": "python3"
  },
  "language_info": {
   "codemirror_mode": {
    "name": "ipython",
    "version": 3
   },
   "file_extension": ".py",
   "mimetype": "text/x-python",
   "name": "python",
   "nbconvert_exporter": "python",
   "pygments_lexer": "ipython3",
   "version": "3.10.16"
  }
 },
 "nbformat": 4,
 "nbformat_minor": 5
}
